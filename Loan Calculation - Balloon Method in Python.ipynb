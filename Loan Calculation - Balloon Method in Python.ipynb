{
 "cells": [
  {
   "cell_type": "code",
   "execution_count": 1,
   "id": "1c4cf0d1",
   "metadata": {},
   "outputs": [],
   "source": [
    "#Given Information \n",
    "principal = 1000000\n",
    "interest_rate = 0.05 # Annual Interest Rate \n",
    "loan_term = 5 # Yearly "
   ]
  },
  {
   "cell_type": "code",
   "execution_count": 2,
   "id": "eec800d8",
   "metadata": {},
   "outputs": [],
   "source": [
    "#Import Libraries \n",
    "import pandas as pd \n",
    "import numpy as np"
   ]
  },
  {
   "cell_type": "code",
   "execution_count": 6,
   "id": "3529330e",
   "metadata": {},
   "outputs": [],
   "source": [
    "monthly_interest_rate = interest_rate/12\n",
    "num_payments = loan_term * 12"
   ]
  },
  {
   "cell_type": "code",
   "execution_count": 7,
   "id": "613b6a10",
   "metadata": {},
   "outputs": [],
   "source": [
    "import math \n",
    "monthly_payment = (principal * monthly_interest_rate) / (1 - math.pow(1 + monthly_interest_rate, -num_payments))"
   ]
  },
  {
   "cell_type": "code",
   "execution_count": 8,
   "id": "fb6aa1c6",
   "metadata": {},
   "outputs": [],
   "source": [
    "amortization_schedule = []"
   ]
  },
  {
   "cell_type": "code",
   "execution_count": 9,
   "id": "27e7a260",
   "metadata": {},
   "outputs": [],
   "source": [
    "remaining_balance = principal "
   ]
  },
  {
   "cell_type": "code",
   "execution_count": 19,
   "id": "084f7bd3",
   "metadata": {
    "scrolled": true
   },
   "outputs": [],
   "source": [
    "remaining_balance = principal\n",
    "amortization_schedule = []  # Define the amortization_schedule list\n",
    "\n",
    "for i in range(1, num_payments + 1):\n",
    "    interest_payment = remaining_balance * monthly_interest_rate\n",
    "    principal_payment = monthly_payment - interest_payment\n",
    "    remaining_balance -= principal_payment\n",
    "    amortization_schedule.append((i, monthly_payment, principal_payment, interest_payment, remaining_balance))"
   ]
  },
  {
   "cell_type": "code",
   "execution_count": 20,
   "id": "dcf83279",
   "metadata": {},
   "outputs": [],
   "source": [
    "columns = ['Payment Number', 'Monthly Payment', 'Principal Payment', 'Interest Payment', 'Remaining Balance']\n",
    "df = pd.DataFrame(amortization_schedule, columns=columns)\n",
    "df.set_index('Payment Number', inplace=True)"
   ]
  },
  {
   "cell_type": "code",
   "execution_count": 21,
   "id": "9e80e80d",
   "metadata": {},
   "outputs": [
    {
     "name": "stdout",
     "output_type": "stream",
     "text": [
      "                Monthly Payment  Principal Payment  Interest Payment  \\\n",
      "Payment Number                                                         \n",
      "1                  18871.233644       14704.566977       4166.666667   \n",
      "2                  18871.233644       14765.836006       4105.397638   \n",
      "3                  18871.233644       14827.360323       4043.873321   \n",
      "4                  18871.233644       14889.140991       3982.092653   \n",
      "5                  18871.233644       14951.179079       3920.054565   \n",
      "6                  18871.233644       15013.475658       3857.757986   \n",
      "7                  18871.233644       15076.031807       3795.201837   \n",
      "8                  18871.233644       15138.848606       3732.385038   \n",
      "9                  18871.233644       15201.927142       3669.306502   \n",
      "10                 18871.233644       15265.268505       3605.965139   \n",
      "11                 18871.233644       15328.873790       3542.359854   \n",
      "12                 18871.233644       15392.744098       3478.489546   \n",
      "13                 18871.233644       15456.880531       3414.353113   \n",
      "14                 18871.233644       15521.284200       3349.949444   \n",
      "15                 18871.233644       15585.956218       3285.277426   \n",
      "16                 18871.233644       15650.897702       3220.335942   \n",
      "17                 18871.233644       15716.109776       3155.123868   \n",
      "18                 18871.233644       15781.593567       3089.640077   \n",
      "19                 18871.233644       15847.350206       3023.883438   \n",
      "20                 18871.233644       15913.380832       2957.852812   \n",
      "21                 18871.233644       15979.686586       2891.547058   \n",
      "22                 18871.233644       16046.268613       2824.965031   \n",
      "23                 18871.233644       16113.128066       2758.105578   \n",
      "24                 18871.233644       16180.266099       2690.967545   \n",
      "25                 18871.233644       16247.683875       2623.549769   \n",
      "26                 18871.233644       16315.382558       2555.851086   \n",
      "27                 18871.233644       16383.363318       2487.870326   \n",
      "28                 18871.233644       16451.627332       2419.606312   \n",
      "29                 18871.233644       16520.175779       2351.057865   \n",
      "30                 18871.233644       16589.009845       2282.223799   \n",
      "31                 18871.233644       16658.130719       2213.102925   \n",
      "32                 18871.233644       16727.539597       2143.694047   \n",
      "33                 18871.233644       16797.237679       2073.995965   \n",
      "34                 18871.233644       16867.226169       2004.007475   \n",
      "35                 18871.233644       16937.506278       1933.727366   \n",
      "36                 18871.233644       17008.079221       1863.154423   \n",
      "37                 18871.233644       17078.946218       1792.287426   \n",
      "38                 18871.233644       17150.108494       1721.125150   \n",
      "39                 18871.233644       17221.567279       1649.666365   \n",
      "40                 18871.233644       17293.323810       1577.909834   \n",
      "41                 18871.233644       17365.379325       1505.854319   \n",
      "42                 18871.233644       17437.735073       1433.498571   \n",
      "43                 18871.233644       17510.392302       1360.841342   \n",
      "44                 18871.233644       17583.352270       1287.881374   \n",
      "45                 18871.233644       17656.616238       1214.617406   \n",
      "46                 18871.233644       17730.185472       1141.048172   \n",
      "47                 18871.233644       17804.061245       1067.172399   \n",
      "48                 18871.233644       17878.244833        992.988811   \n",
      "49                 18871.233644       17952.737520        918.496124   \n",
      "50                 18871.233644       18027.540593        843.693051   \n",
      "51                 18871.233644       18102.655346        768.578298   \n",
      "52                 18871.233644       18178.083076        693.150568   \n",
      "53                 18871.233644       18253.825089        617.408555   \n",
      "54                 18871.233644       18329.882694        541.350950   \n",
      "55                 18871.233644       18406.257205        464.976439   \n",
      "56                 18871.233644       18482.949943        388.283701   \n",
      "57                 18871.233644       18559.962235        311.271409   \n",
      "58                 18871.233644       18637.295411        233.938233   \n",
      "59                 18871.233644       18714.950808        156.282836   \n",
      "60                 18871.233644       18792.929770         78.303874   \n",
      "\n",
      "                Remaining Balance  \n",
      "Payment Number                     \n",
      "1                    9.852954e+05  \n",
      "2                    9.705296e+05  \n",
      "3                    9.557022e+05  \n",
      "4                    9.408131e+05  \n",
      "5                    9.258619e+05  \n",
      "6                    9.108484e+05  \n",
      "7                    8.957724e+05  \n",
      "8                    8.806336e+05  \n",
      "9                    8.654316e+05  \n",
      "10                   8.501664e+05  \n",
      "11                   8.348375e+05  \n",
      "12                   8.194447e+05  \n",
      "13                   8.039879e+05  \n",
      "14                   7.884666e+05  \n",
      "15                   7.728806e+05  \n",
      "16                   7.572297e+05  \n",
      "17                   7.415136e+05  \n",
      "18                   7.257320e+05  \n",
      "19                   7.098847e+05  \n",
      "20                   6.939713e+05  \n",
      "21                   6.779916e+05  \n",
      "22                   6.619453e+05  \n",
      "23                   6.458322e+05  \n",
      "24                   6.296519e+05  \n",
      "25                   6.134043e+05  \n",
      "26                   5.970889e+05  \n",
      "27                   5.807055e+05  \n",
      "28                   5.642539e+05  \n",
      "29                   5.477337e+05  \n",
      "30                   5.311447e+05  \n",
      "31                   5.144866e+05  \n",
      "32                   4.977590e+05  \n",
      "33                   4.809618e+05  \n",
      "34                   4.640946e+05  \n",
      "35                   4.471571e+05  \n",
      "36                   4.301490e+05  \n",
      "37                   4.130700e+05  \n",
      "38                   3.959199e+05  \n",
      "39                   3.786984e+05  \n",
      "40                   3.614050e+05  \n",
      "41                   3.440397e+05  \n",
      "42                   3.266019e+05  \n",
      "43                   3.090915e+05  \n",
      "44                   2.915082e+05  \n",
      "45                   2.738516e+05  \n",
      "46                   2.561214e+05  \n",
      "47                   2.383173e+05  \n",
      "48                   2.204391e+05  \n",
      "49                   2.024863e+05  \n",
      "50                   1.844588e+05  \n",
      "51                   1.663561e+05  \n",
      "52                   1.481781e+05  \n",
      "53                   1.299242e+05  \n",
      "54                   1.115943e+05  \n",
      "55                   9.318809e+04  \n",
      "56                   7.470514e+04  \n",
      "57                   5.614518e+04  \n",
      "58                   3.750788e+04  \n",
      "59                   1.879293e+04  \n",
      "60                  -4.161848e-09  \n"
     ]
    }
   ],
   "source": [
    "print(df)"
   ]
  },
  {
   "cell_type": "code",
   "execution_count": null,
   "id": "c2a78523",
   "metadata": {},
   "outputs": [],
   "source": []
  }
 ],
 "metadata": {
  "kernelspec": {
   "display_name": "Python 3 (ipykernel)",
   "language": "python",
   "name": "python3"
  },
  "language_info": {
   "codemirror_mode": {
    "name": "ipython",
    "version": 3
   },
   "file_extension": ".py",
   "mimetype": "text/x-python",
   "name": "python",
   "nbconvert_exporter": "python",
   "pygments_lexer": "ipython3",
   "version": "3.10.9"
  }
 },
 "nbformat": 4,
 "nbformat_minor": 5
}
