{
 "cells": [
  {
   "cell_type": "code",
   "execution_count": 2,
   "id": "8c336e64",
   "metadata": {},
   "outputs": [
    {
     "data": {
      "text/plain": [
       "6000"
      ]
     },
     "execution_count": 2,
     "metadata": {},
     "output_type": "execute_result"
    }
   ],
   "source": [
    "# Addition in Python \n",
    "A = 1000\n",
    "B = 5000\n",
    "A+B "
   ]
  },
  {
   "cell_type": "code",
   "execution_count": 4,
   "id": "80fce5c4",
   "metadata": {},
   "outputs": [
    {
     "data": {
      "text/plain": [
       "342670"
      ]
     },
     "execution_count": 4,
     "metadata": {},
     "output_type": "execute_result"
    }
   ],
   "source": [
    "A = 105780\n",
    "B = 236890\n",
    "A + B"
   ]
  },
  {
   "cell_type": "code",
   "execution_count": 5,
   "id": "184406e5",
   "metadata": {},
   "outputs": [
    {
     "data": {
      "text/plain": [
       "4800"
      ]
     },
     "execution_count": 5,
     "metadata": {},
     "output_type": "execute_result"
    }
   ],
   "source": [
    "#Substraction in Python\n",
    "X = 8000\n",
    "Y = 3200\n",
    "X-Y "
   ]
  },
  {
   "cell_type": "code",
   "execution_count": 6,
   "id": "b98ad6ed",
   "metadata": {},
   "outputs": [
    {
     "data": {
      "text/plain": [
       "18257"
      ]
     },
     "execution_count": 6,
     "metadata": {},
     "output_type": "execute_result"
    }
   ],
   "source": [
    "X = 85689\n",
    "Y = 67432\n",
    "X - Y"
   ]
  },
  {
   "cell_type": "code",
   "execution_count": 7,
   "id": "0476e498",
   "metadata": {},
   "outputs": [
    {
     "data": {
      "text/plain": [
       "50700"
      ]
     },
     "execution_count": 7,
     "metadata": {},
     "output_type": "execute_result"
    }
   ],
   "source": [
    "#Multiplication in Python \n",
    "X = 780 \n",
    "Y = 65\n",
    "X*Y "
   ]
  },
  {
   "cell_type": "code",
   "execution_count": 8,
   "id": "1fa7a6ee",
   "metadata": {},
   "outputs": [
    {
     "data": {
      "text/plain": [
       "408744"
      ]
     },
     "execution_count": 8,
     "metadata": {},
     "output_type": "execute_result"
    }
   ],
   "source": [
    "X = 3244 \n",
    "Y = 126\n",
    "X*Y "
   ]
  },
  {
   "cell_type": "code",
   "execution_count": 9,
   "id": "be6ab387",
   "metadata": {},
   "outputs": [
    {
     "data": {
      "text/plain": [
       "150.0"
      ]
     },
     "execution_count": 9,
     "metadata": {},
     "output_type": "execute_result"
    }
   ],
   "source": [
    "#Division in Python \n",
    "\n",
    "C = 7500 \n",
    "D = 50 \n",
    "C/D"
   ]
  },
  {
   "cell_type": "code",
   "execution_count": 10,
   "id": "ba97776e",
   "metadata": {},
   "outputs": [
    {
     "data": {
      "text/plain": [
       "150"
      ]
     },
     "execution_count": 10,
     "metadata": {},
     "output_type": "execute_result"
    }
   ],
   "source": [
    "C//D"
   ]
  },
  {
   "cell_type": "code",
   "execution_count": 11,
   "id": "210bacf6",
   "metadata": {},
   "outputs": [
    {
     "data": {
      "text/plain": [
       "25.666666666666668"
      ]
     },
     "execution_count": 11,
     "metadata": {},
     "output_type": "execute_result"
    }
   ],
   "source": [
    "C = 77\n",
    "D = 3\n",
    "C/D"
   ]
  },
  {
   "cell_type": "code",
   "execution_count": 12,
   "id": "bb37ee07",
   "metadata": {},
   "outputs": [
    {
     "data": {
      "text/plain": [
       "25"
      ]
     },
     "execution_count": 12,
     "metadata": {},
     "output_type": "execute_result"
    }
   ],
   "source": [
    "C//D"
   ]
  },
  {
   "cell_type": "code",
   "execution_count": 19,
   "id": "9cda8ce1",
   "metadata": {},
   "outputs": [],
   "source": [
    "#Suppose an individual invests $10,000 in a bank account that pays interest at a rate of 10% compounded annually. What will be the future value after 2 years?\n"
   ]
  },
  {
   "cell_type": "code",
   "execution_count": 23,
   "id": "e5b157c4",
   "metadata": {},
   "outputs": [
    {
     "name": "stdout",
     "output_type": "stream",
     "text": [
      "12100.000000000002\n"
     ]
    }
   ],
   "source": [
    "# future_value =present_value * (1 + interest_rate)** time\n",
    "\n",
    "present_value = 10000\n",
    "interest_rate = 0.10\n",
    "time = 2\n",
    "\n",
    "future_value = 10000 * (1.10)**2 \n",
    "print(future_value)"
   ]
  },
  {
   "cell_type": "code",
   "execution_count": 24,
   "id": "55f90826",
   "metadata": {},
   "outputs": [
    {
     "name": "stdout",
     "output_type": "stream",
     "text": [
      "21038.275960500006\n"
     ]
    }
   ],
   "source": [
    "## future_value =present_value * (1 + interest_rate)** time\n",
    "\n",
    "present_value = 15000\n",
    "interest_rate = 0.07\n",
    "time = 5\n",
    "\n",
    "future_value = 15000*(1.07)**5\n",
    "print(future_value)"
   ]
  },
  {
   "cell_type": "code",
   "execution_count": 25,
   "id": "b3f83369",
   "metadata": {},
   "outputs": [
    {
     "name": "stdout",
     "output_type": "stream",
     "text": [
      "2518.17011681898\n"
     ]
    }
   ],
   "source": [
    "# future_value =present_value * (1 + interest_rate)** time\n",
    "present_value = 1000\n",
    "interest_rate=0.08 \n",
    "time= 12\n",
    "\n",
    "future_value = 1000*(1.08)**12 \n",
    "print(future_value)"
   ]
  },
  {
   "cell_type": "code",
   "execution_count": 26,
   "id": "fe29b394",
   "metadata": {},
   "outputs": [
    {
     "name": "stdout",
     "output_type": "stream",
     "text": [
      "9070.2947845805\n"
     ]
    }
   ],
   "source": [
    "#present_value = future_value/(1+ interest_rate)**time \n",
    "\n",
    "future_value = 10000\n",
    "interest_rate = 0.05\n",
    "time = 2 \n",
    "\n",
    "present_value = 10000/(1.05)**2\n",
    "print(present_value)"
   ]
  },
  {
   "cell_type": "code",
   "execution_count": 27,
   "id": "e7ff4836",
   "metadata": {},
   "outputs": [
    {
     "name": "stdout",
     "output_type": "stream",
     "text": [
      "9999.999999999998\n"
     ]
    }
   ],
   "source": [
    "future_value = 12100\n",
    "interest_rate = 0.10\n",
    "time = 2 \n",
    "\n",
    "present_value =12100/(1.10)**2\n",
    "print(present_value)"
   ]
  },
  {
   "cell_type": "code",
   "execution_count": 28,
   "id": "6c88c9f0",
   "metadata": {},
   "outputs": [
    {
     "name": "stdout",
     "output_type": "stream",
     "text": [
      "0.10000000000000009\n"
     ]
    }
   ],
   "source": [
    "# Intereste Rate Formula \n",
    "# interest_rate = (future_value / present_value) ** (1 / time) - 1\n",
    "\n",
    "future_value = 12100\n",
    "present_value = 10000\n",
    "time = 2 \n",
    "\n",
    "interest_rate  = (future_value/present_value) **(1/2)-1\n",
    "print(interest_rate)\n"
   ]
  },
  {
   "cell_type": "code",
   "execution_count": null,
   "id": "1709c6dd",
   "metadata": {},
   "outputs": [],
   "source": []
  }
 ],
 "metadata": {
  "kernelspec": {
   "display_name": "Python 3 (ipykernel)",
   "language": "python",
   "name": "python3"
  },
  "language_info": {
   "codemirror_mode": {
    "name": "ipython",
    "version": 3
   },
   "file_extension": ".py",
   "mimetype": "text/x-python",
   "name": "python",
   "nbconvert_exporter": "python",
   "pygments_lexer": "ipython3",
   "version": "3.9.13"
  }
 },
 "nbformat": 4,
 "nbformat_minor": 5
}
